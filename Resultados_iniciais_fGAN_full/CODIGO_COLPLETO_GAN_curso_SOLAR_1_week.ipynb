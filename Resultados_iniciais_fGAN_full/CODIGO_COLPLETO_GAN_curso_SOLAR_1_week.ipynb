{
 "cells": [
  {
   "cell_type": "code",
   "execution_count": null,
   "id": "f36365c5",
   "metadata": {},
   "outputs": [],
   "source": []
  },
  {
   "cell_type": "code",
   "execution_count": null,
   "id": "d4c28a3f",
   "metadata": {},
   "outputs": [],
   "source": []
  },
  {
   "cell_type": "markdown",
   "id": "f96e4e10",
   "metadata": {},
   "source": [
    "# Etapa 1: Importação das bibliotecas"
   ]
  },
  {
   "cell_type": "code",
   "execution_count": 845,
   "id": "be91e2f7",
   "metadata": {},
   "outputs": [
    {
     "data": {
      "text/plain": [
       "<torch._C.Generator at 0x7f8e4c14ff50>"
      ]
     },
     "execution_count": 845,
     "metadata": {},
     "output_type": "execute_result"
    }
   ],
   "source": [
    "# Importing the necessary libraries:\n",
    "import torch\n",
    "from torch import nn, optim\n",
    "import math\n",
    "import matplotlib.pyplot as plt\n",
    "import numpy as np\n",
    "import pandas as pd\n",
    "from sklearn.preprocessing import MinMaxScaler    # Biblioteca para transformar os dados a escala ente 0-1 \n",
    "import matplotlib.pyplot as plt\n",
    "from sklearn.metrics import mean_absolute_error\n",
    "import torch.nn.functional as F\n",
    "torch.__version__\n",
    "torch.manual_seed(123)"
   ]
  },
  {
   "cell_type": "markdown",
   "id": "b9ff44ee",
   "metadata": {},
   "source": [
    "## Etapa 2: Base de dados"
   ]
  },
  {
   "cell_type": "markdown",
   "id": "7a9971e1",
   "metadata": {},
   "source": [
    "### Dado sintético\n"
   ]
  },
  {
   "cell_type": "code",
   "execution_count": 846,
   "id": "c6f6dd6d",
   "metadata": {},
   "outputs": [],
   "source": [
    "## Dado sintético 1 - organizado em serie temporal\n",
    "data_length = 2049\n",
    "zer=np.zeros((data_length,1))\n",
    "for i in range(len(zer)): \n",
    "    zer[i] = 32 * math.pi*i/data_length\n",
    "Dado_senoide = 4*np.sin(zer)"
   ]
  },
  {
   "cell_type": "code",
   "execution_count": 847,
   "id": "9013eef9",
   "metadata": {},
   "outputs": [],
   "source": [
    "#plt.plot(Dado_senoide)\n",
    "#plt.plot(zer[:],Dado_senoide[0], \".\")"
   ]
  },
  {
   "cell_type": "code",
   "execution_count": 848,
   "id": "d3c70f6a",
   "metadata": {},
   "outputs": [],
   "source": [
    "#Dado_senoide"
   ]
  },
  {
   "cell_type": "markdown",
   "id": "bf945cf7",
   "metadata": {},
   "source": [
    "### >>> Dado real"
   ]
  },
  {
   "cell_type": "markdown",
   "id": "5d337b77",
   "metadata": {},
   "source": [
    "####               >>>>           Dado ações da Petrobras"
   ]
  },
  {
   "cell_type": "code",
   "execution_count": 849,
   "id": "08c20047",
   "metadata": {},
   "outputs": [],
   "source": [
    "Dado_petr4 = pd.read_csv('../../DADOS/petr4_treinamento.csv')\n",
    "## 3.1 apagando linhas NAN\n",
    "Dado_petr4 = Dado_petr4.dropna()\n",
    "Dado_petr4 = Dado_petr4.iloc[:, 1:2].values"
   ]
  },
  {
   "cell_type": "code",
   "execution_count": 850,
   "id": "1fb767f3",
   "metadata": {},
   "outputs": [
    {
     "data": {
      "text/plain": [
       "[<matplotlib.lines.Line2D at 0x7f8d774605e0>]"
      ]
     },
     "execution_count": 850,
     "metadata": {},
     "output_type": "execute_result"
    },
    {
     "data": {
      "image/png": "[encoded data removed]",
      "text/plain": [
       "<Figure size 720x360 with 1 Axes>"
      ]
     },
     "metadata": {},
     "output_type": "display_data"
    }
   ],
   "source": [
    "plt.plot(Dado_petr4)\n",
    "#plt.plot(zer[:],Dado_senoide[0], \".\")"
   ]
  },
  {
   "cell_type": "markdown",
   "id": "e22571d8",
   "metadata": {},
   "source": [
    "#### >>>> Dado SOLAR"
   ]
  },
  {
   "cell_type": "code",
   "execution_count": 851,
   "id": "a70fe0db",
   "metadata": {},
   "outputs": [
    {
     "data": {
      "text/html": [
       "<div>\n",
       "<style scoped>\n",
       "    .dataframe tbody tr th:only-of-type {\n",
       "        vertical-align: middle;\n",
       "    }\n",
       "\n",
       "    .dataframe tbody tr th {\n",
       "        vertical-align: top;\n",
       "    }\n",
       "\n",
       "    .dataframe thead th {\n",
       "        text-align: right;\n",
       "    }\n",
       "</style>\n",
       "<table border=\"1\" class=\"dataframe\">\n",
       "  <thead>\n",
       "    <tr style=\"text-align: right;\">\n",
       "      <th></th>\n",
       "      <th>RadGlobalCMP11 (W/m2)_mean</th>\n",
       "    </tr>\n",
       "    <tr>\n",
       "      <th>year_month_week</th>\n",
       "      <th></th>\n",
       "    </tr>\n",
       "  </thead>\n",
       "  <tbody>\n",
       "    <tr>\n",
       "      <th>2014-20</th>\n",
       "      <td>195743.081179</td>\n",
       "    </tr>\n",
       "    <tr>\n",
       "      <th>2014-21</th>\n",
       "      <td>200649.404140</td>\n",
       "    </tr>\n",
       "    <tr>\n",
       "      <th>2014-22</th>\n",
       "      <td>188638.109675</td>\n",
       "    </tr>\n",
       "    <tr>\n",
       "      <th>2014-3</th>\n",
       "      <td>293411.348572</td>\n",
       "    </tr>\n",
       "    <tr>\n",
       "      <th>2014-4</th>\n",
       "      <td>287073.567593</td>\n",
       "    </tr>\n",
       "    <tr>\n",
       "      <th>2014-5</th>\n",
       "      <td>292335.077550</td>\n",
       "    </tr>\n",
       "    <tr>\n",
       "      <th>2014-6</th>\n",
       "      <td>287379.338433</td>\n",
       "    </tr>\n",
       "    <tr>\n",
       "      <th>2014-7</th>\n",
       "      <td>291183.161359</td>\n",
       "    </tr>\n",
       "    <tr>\n",
       "      <th>2014-8</th>\n",
       "      <td>234384.352152</td>\n",
       "    </tr>\n",
       "    <tr>\n",
       "      <th>2014-9</th>\n",
       "      <td>221323.297796</td>\n",
       "    </tr>\n",
       "  </tbody>\n",
       "</table>\n",
       "</div>"
      ],
      "text/plain": [
       "                 RadGlobalCMP11 (W/m2)_mean\n",
       "year_month_week                            \n",
       "2014-20                       195743.081179\n",
       "2014-21                       200649.404140\n",
       "2014-22                       188638.109675\n",
       "2014-3                        293411.348572\n",
       "2014-4                        287073.567593\n",
       "2014-5                        292335.077550\n",
       "2014-6                        287379.338433\n",
       "2014-7                        291183.161359\n",
       "2014-8                        234384.352152\n",
       "2014-9                        221323.297796"
      ]
     },
     "execution_count": 851,
     "metadata": {},
     "output_type": "execute_result"
    }
   ],
   "source": [
    "Dt = pd.read_excel(\"Serie_Dado_week.xlsx\",index_col=0,header=0)#, names=['week'])# Lendo o arquivo            \n",
    "del Dt['week']\n",
    "#Dt.columns=['Date_day']\n",
    "Dt.tail(10)\n"
   ]
  },
  {
   "cell_type": "code",
   "execution_count": 852,
   "id": "3eb41b69",
   "metadata": {},
   "outputs": [
    {
     "data": {
      "text/plain": [
       "(53, 1)"
      ]
     },
     "execution_count": 852,
     "metadata": {},
     "output_type": "execute_result"
    }
   ],
   "source": [
    "#Dt = pd.read_csv(\"/home/rodrigo/ENG_PRODUCAO/TCC/Redes-Neurais-Profundas_git_FELIPE/script/df_sem_outliers.csv\",index_col=0,header=0, names=['solar_irradiation(w/m²)'])\n",
    "#Dt = pd.read_excel(\"../Resultados_iniciais/Serie_Dado_hour.xlsx\",index_col=0,header=0, names=['Date_hour'])# Lendo o arquivo            \n",
    "Dt = pd.read_excel(\"Serie_Dado_week.xlsx\",index_col=0,header=0)#, names=['week'])# Lendo o arquivo            \n",
    "del Dt['week']\n",
    "Dt.columns=['week']\n",
    "Dt.head()\n",
    "## 3.1 apagando linhas NAN\n",
    "#Dt = Dt.dropna()\n",
    "Dt=Dt[Dt[\"week\"]>=1]\n",
    "Dado_solar2=Dt[[\"week\"]].values\n",
    "Dado_solar=Dado_solar2[:,:].copy() \n",
    "#np.shape(Dado_solar)\n",
    "Dt.head()\n",
    "np.shape(Dt)"
   ]
  },
  {
   "cell_type": "code",
   "execution_count": 853,
   "id": "68f1c3e6",
   "metadata": {},
   "outputs": [
    {
     "data": {
      "text/plain": [
       "[<matplotlib.lines.Line2D at 0x7f8d772c09d0>]"
      ]
     },
     "execution_count": 853,
     "metadata": {},
     "output_type": "execute_result"
    },
    {
     "data": {
      "image/png": "[encoded data removed]",
      "text/plain": [
       "<Figure size 1152x288 with 1 Axes>"
      ]
     },
     "metadata": {},
     "output_type": "display_data"
    }
   ],
   "source": [
    "from pylab import rcParams\n",
    "rcParams['figure.figsize'] = 16,4\n",
    "plt.plot(Dado_solar[0:])\n",
    "#plt.plot(zer[:],Dado_senoide[0], \".\")"
   ]
  },
  {
   "cell_type": "code",
   "execution_count": null,
   "id": "3f65bd9a",
   "metadata": {},
   "outputs": [],
   "source": []
  },
  {
   "cell_type": "markdown",
   "id": "0b496d6c",
   "metadata": {},
   "source": [
    "## Etapa 3: Processando os dados"
   ]
  },
  {
   "cell_type": "code",
   "execution_count": 854,
   "id": "6b953b86",
   "metadata": {},
   "outputs": [],
   "source": [
    "#base_treinamento = Dado_petr4"
   ]
  },
  {
   "cell_type": "code",
   "execution_count": 855,
   "id": "8d4ac2bc",
   "metadata": {},
   "outputs": [],
   "source": [
    "base_treinamento = Dado_solar"
   ]
  },
  {
   "cell_type": "code",
   "execution_count": 856,
   "id": "9ced8d73",
   "metadata": {},
   "outputs": [],
   "source": [
    "#base_treinamento = Dado_senoide"
   ]
  },
  {
   "cell_type": "code",
   "execution_count": 857,
   "id": "dc501213",
   "metadata": {},
   "outputs": [
    {
     "data": {
      "text/plain": [
       "(53, 1)"
      ]
     },
     "execution_count": 857,
     "metadata": {},
     "output_type": "execute_result"
    }
   ],
   "source": [
    "np.shape(base_treinamento)"
   ]
  },
  {
   "cell_type": "markdown",
   "id": "01a829e6",
   "metadata": {},
   "source": [
    "## 3.1 apagando linhas NAN"
   ]
  },
  {
   "cell_type": "markdown",
   "id": "7cd36c06",
   "metadata": {},
   "source": [
    "base = base.dropna()\n",
    "base.shape"
   ]
  },
  {
   "cell_type": "markdown",
   "id": "5a5c32c9",
   "metadata": {},
   "source": [
    "## 3.2 Normalizando os dados entre 0-1"
   ]
  },
  {
   "cell_type": "code",
   "execution_count": 858,
   "id": "85512f64",
   "metadata": {},
   "outputs": [],
   "source": [
    "normalizador = MinMaxScaler(feature_range=(0,1))\n",
    "base_treinamento_normalizada = normalizador.fit_transform(base_treinamento)\n",
    "#base_treinamento_normalizada"
   ]
  },
  {
   "cell_type": "markdown",
   "id": "c1c179fe",
   "metadata": {},
   "source": [
    "## 3.3 Deslocando as lag da série pra obter X, e Y"
   ]
  },
  {
   "cell_type": "code",
   "execution_count": 859,
   "id": "f9c7cb18",
   "metadata": {},
   "outputs": [
    {
     "data": {
      "text/plain": [
       "((49, 4), (49,))"
      ]
     },
     "execution_count": 859,
     "metadata": {},
     "output_type": "execute_result"
    }
   ],
   "source": [
    "lags=4 # Número de colunas x (valores do passado para prever o futuro)\n",
    "input_dim=lags\n",
    "\n",
    "X = []\n",
    "y = []\n",
    "for i in range(lags, len(base_treinamento_normalizada)):\n",
    "    X.append(base_treinamento_normalizada[i-lags:i, 0])\n",
    "    y.append(base_treinamento_normalizada[i, 0])\n",
    "X, y = np.array(X), np.array(y)\n",
    "np.shape(X),np.shape(y)"
   ]
  },
  {
   "cell_type": "markdown",
   "id": "ca09bd97",
   "metadata": {},
   "source": [
    "## 3.4 Convertendo os dados para tensores"
   ]
  },
  {
   "cell_type": "code",
   "execution_count": 860,
   "id": "09702f82",
   "metadata": {},
   "outputs": [],
   "source": [
    "X = torch.tensor(X, dtype=torch.float32)\n",
    "y = torch.tensor(y, dtype=torch.float32)"
   ]
  },
  {
   "cell_type": "markdown",
   "id": "0cf96195",
   "metadata": {},
   "source": [
    "## 3.5 Concatenando X com Y"
   ]
  },
  {
   "cell_type": "code",
   "execution_count": 861,
   "id": "3dab0532",
   "metadata": {},
   "outputs": [
    {
     "data": {
      "text/plain": [
       "torch.Size([49, 5])"
      ]
     },
     "execution_count": 861,
     "metadata": {},
     "output_type": "execute_result"
    }
   ],
   "source": [
    "dataset = torch.zeros((len(y), lags+1)) #- Concatenando x e \n",
    "dataset[:,-1] = y\n",
    "dataset[:,0:lags] = X\n",
    "np.shape(dataset)"
   ]
  },
  {
   "cell_type": "code",
   "execution_count": 862,
   "id": "b003b9af",
   "metadata": {},
   "outputs": [
    {
     "data": {
      "text/plain": [
       "[<matplotlib.lines.Line2D at 0x7f8d773527c0>]"
      ]
     },
     "execution_count": 862,
     "metadata": {},
     "output_type": "execute_result"
    },
    {
     "data": {
      "image/png": "[encoded data removed]",
      "text/plain": [
       "<Figure size 1152x288 with 1 Axes>"
      ]
     },
     "metadata": {},
     "output_type": "display_data"
    }
   ],
   "source": [
    "plt.plot(dataset[:,1])"
   ]
  },
  {
   "cell_type": "markdown",
   "id": "2d1bbfc4",
   "metadata": {},
   "source": [
    "## 3.6 Criando e inserindo labels "
   ]
  },
  {
   "cell_type": "markdown",
   "id": "5580d625",
   "metadata": {},
   "source": [
    "## 3..6.7 Separando parte de treino e parte de teste"
   ]
  },
  {
   "cell_type": "code",
   "execution_count": 863,
   "id": "7b8436ed",
   "metadata": {},
   "outputs": [
    {
     "data": {
      "text/plain": [
       "torch.Size([8, 5])"
      ]
     },
     "execution_count": 863,
     "metadata": {},
     "output_type": "execute_result"
    }
   ],
   "source": [
    "Percent_train=0.85\n",
    "train_labels = torch.zeros(int(Percent_train*len(y)))\n",
    "train_set = [(dataset[i], train_labels[i]) for i in range(int(Percent_train*len(y)))]\n",
    "#################\n",
    "del train_set\n",
    "train_set = [(dataset[i], train_labels[i]) for i in range(37)]\n",
    "#################\n",
    "\n",
    "test_labels = torch.zeros(len(y)-int(Percent_train*len(y)))\n",
    "test_set = dataset[int(Percent_train*len(y)):len(y),:]\n",
    "\n",
    "np.shape(test_set)\n",
    "#np.shape(train_set)"
   ]
  },
  {
   "cell_type": "code",
   "execution_count": 864,
   "id": "be610009",
   "metadata": {},
   "outputs": [],
   "source": [
    "#train_set2 = dataset[0:37,:]\n",
    "#plt.plot(train_set2[:,1])"
   ]
  },
  {
   "cell_type": "markdown",
   "id": "4e68b7ec",
   "metadata": {},
   "source": [
    "## 3.4 Definindo mini batch para os dados"
   ]
  },
  {
   "cell_type": "code",
   "execution_count": 865,
   "id": "50c71253",
   "metadata": {},
   "outputs": [
    {
     "data": {
      "text/plain": [
       "41"
      ]
     },
     "execution_count": 865,
     "metadata": {},
     "output_type": "execute_result"
    }
   ],
   "source": [
    "batch_size=int(len(train_labels)/1)\n",
    "train_loader = torch.utils.data.DataLoader(train_set, batch_size=batch_size, shuffle=False)\n",
    "batch_size"
   ]
  },
  {
   "cell_type": "markdown",
   "id": "f2340230",
   "metadata": {},
   "source": [
    "# Etapa 4: Criação do modelo - GAN"
   ]
  },
  {
   "cell_type": "markdown",
   "id": "f7fb5181",
   "metadata": {},
   "source": [
    "## 4.1 Implementando o discriminador\n"
   ]
  },
  {
   "cell_type": "markdown",
   "id": "5ee88557",
   "metadata": {},
   "source": [
    "### 4.1.1 - Discriminador Deep Learning Densa"
   ]
  },
  {
   "cell_type": "code",
   "execution_count": 866,
   "id": "4e04a76e",
   "metadata": {},
   "outputs": [
    {
     "name": "stdout",
     "output_type": "stream",
     "text": [
      " O input representa o número de colunas do X+y para modelar o rótulo 0 ou 1\n",
      " A primeira camada do modelo discriminador deve ser preenchida com input= 5\n"
     ]
    }
   ],
   "source": [
    "print(\" O input representa o número de colunas do X+y para modelar o rótulo 0 ou 1\")\n",
    "print(\" A primeira camada do modelo discriminador deve ser preenchida com input=\",lags+1)\n"
   ]
  },
  {
   "cell_type": "code",
   "execution_count": 867,
   "id": "ec149652",
   "metadata": {},
   "outputs": [],
   "source": [
    "class DiscriminatorD(nn.Module):\n",
    "    def __init__(self):\n",
    "        super().__init__()\n",
    "        self.model = nn.Sequential(\n",
    "            nn.Linear(5, 32),\n",
    "            nn.ReLU(),\n",
    "            nn.Dropout(0.03),\n",
    "            nn.Linear(32, 32),\n",
    "            nn.ReLU(),\n",
    "            nn.Dropout(0.03),\n",
    "            nn.Linear(32, 32),\n",
    "            nn.ReLU(),\n",
    "            nn.Dropout(0.3),\n",
    "            nn.Linear(32, 1),\n",
    "            nn.Sigmoid(),\n",
    "        )\n",
    "    def forward(self, x):\n",
    "        output = self.model(x)\n",
    "        return output\n",
    "\n",
    "discriminator=DiscriminatorD()"
   ]
  },
  {
   "cell_type": "markdown",
   "id": "55f159df",
   "metadata": {},
   "source": [
    "### 4.1.2 -  Discriminador Deep Learning Densa - curso"
   ]
  },
  {
   "cell_type": "code",
   "execution_count": 868,
   "id": "3714ca65",
   "metadata": {},
   "outputs": [
    {
     "name": "stdout",
     "output_type": "stream",
     "text": [
      " O input representa o número de colunas do X+y para modelar o rótulo 0 ou 1\n",
      " A primeira camada do modelo discriminador deve ser preenchida com input= 5\n"
     ]
    }
   ],
   "source": [
    "print(\" O input representa o número de colunas do X+y para modelar o rótulo 0 ou 1\")\n",
    "print(\" A primeira camada do modelo discriminador deve ser preenchida com input=\",lags+1)\n"
   ]
  },
  {
   "cell_type": "code",
   "execution_count": 869,
   "id": "fde3bcae",
   "metadata": {},
   "outputs": [],
   "source": [
    "class DiscriminatorD2(nn.Module):\n",
    "    def __init__(self):\n",
    "        super().__init__()\n",
    "        # 784 -> 128 -> 64 -> 32 -> 1\n",
    "        self.dense0 = nn.Linear(5, 128)\n",
    "        self.dense1 = nn.Linear(128, 64)\n",
    "        self.dense2 = nn.Linear(64, 32)\n",
    "        self.dense3 = nn.Linear(32, 1)\n",
    "        self.dropout = nn.Dropout(0.3)\n",
    "\n",
    "    def forward(self, X):\n",
    "        X = self.dropout(F.leaky_relu(self.dense0(X), 0.2))\n",
    "        X = self.dropout(F.leaky_relu(self.dense1(X), 0.2))\n",
    "        X = self.dropout(F.leaky_relu(self.dense2(X), 0.2))\n",
    "        X = self.dense3(X)\n",
    "        return X\n",
    "D = DiscriminatorD2()"
   ]
  },
  {
   "cell_type": "markdown",
   "id": "6dff5d9f",
   "metadata": {},
   "source": [
    "### 4.1.3 - Discriminador Deep RECORRENTE"
   ]
  },
  {
   "cell_type": "code",
   "execution_count": null,
   "id": "e9ab7806",
   "metadata": {},
   "outputs": [],
   "source": []
  },
  {
   "cell_type": "code",
   "execution_count": null,
   "id": "92b56861",
   "metadata": {},
   "outputs": [],
   "source": []
  },
  {
   "cell_type": "markdown",
   "id": "0e234c51",
   "metadata": {},
   "source": [
    "## 4.2 Implementando o Gerador\n"
   ]
  },
  {
   "cell_type": "markdown",
   "id": "58e85f80",
   "metadata": {},
   "source": [
    "### 4.2.1 - Gerador Deep Learning Densa"
   ]
  },
  {
   "cell_type": "code",
   "execution_count": 870,
   "id": "e1217ff7",
   "metadata": {},
   "outputs": [
    {
     "name": "stdout",
     "output_type": "stream",
     "text": [
      " O input representa o número de colunas do X para modelar 1 amostra y\n",
      " A primeira camada do modelo gerador deve ser preenchida com input= 4\n"
     ]
    }
   ],
   "source": [
    "print(\" O input representa o número de colunas do X para modelar 1 amostra y\")\n",
    "print(\" A primeira camada do modelo gerador deve ser preenchida com input=\",lags)\n"
   ]
  },
  {
   "cell_type": "code",
   "execution_count": 871,
   "id": "70ea092e",
   "metadata": {},
   "outputs": [],
   "source": [
    "class GeneratorD(nn.Module):\n",
    "\n",
    "    def __init__(self):\n",
    "        super().__init__()\n",
    "        self.model = nn.Sequential(\n",
    "            nn.Linear(4, 32),\n",
    "            nn.ReLU(),\n",
    "            nn.Linear(32, 32),\n",
    "            nn.ReLU(),\n",
    "            nn.Linear(32, 32),\n",
    "            nn.ReLU(),\n",
    "            nn.Linear(32, 32),\n",
    "            nn.ReLU(),\n",
    "            nn.Linear(32, 32),\n",
    "            nn.ReLU(),\n",
    "            nn.Linear(32, 16),\n",
    "            nn.ReLU(),\n",
    "            nn.Linear(16, 8),\n",
    "            nn.ReLU(),\n",
    "            nn.Linear(8, 1),\n",
    "        )\n",
    "\n",
    "    def forward(self, x):\n",
    "        output = self.model(x)\n",
    "        return output\n",
    "generator = GeneratorD()"
   ]
  },
  {
   "cell_type": "markdown",
   "id": "593d5158",
   "metadata": {},
   "source": [
    "### 4.2.2 -  Gerador Deep Learning Densa - curso"
   ]
  },
  {
   "cell_type": "code",
   "execution_count": 872,
   "id": "461efda6",
   "metadata": {},
   "outputs": [
    {
     "name": "stdout",
     "output_type": "stream",
     "text": [
      " O input representa o número de colunas do X para modelar 1 amostra y\n",
      " A primeira camada do modelo gerador deve ser preenchida com input= 4\n"
     ]
    }
   ],
   "source": [
    "print(\" O input representa o número de colunas do X para modelar 1 amostra y\")\n",
    "print(\" A primeira camada do modelo gerador deve ser preenchida com input=\",lags)"
   ]
  },
  {
   "cell_type": "code",
   "execution_count": 873,
   "id": "951807de",
   "metadata": {},
   "outputs": [],
   "source": [
    "class GeneratorD2(nn.Module):\n",
    "    def __init__(self):\n",
    "        super().__init__()\n",
    "        # 100 -> 32 -> 64 -> 128 -> 784\n",
    "        self.dense0 = nn.Linear(4, 32)\n",
    "        self.dense1 = nn.Linear(32, 64)\n",
    "        self.dense2 = nn.Linear(64, 128)\n",
    "        self.dense22 = nn.Linear(128, 128)\n",
    "        self.dense3 = nn.Linear(128, 1)\n",
    "        self.dropout = nn.Dropout(0.3)\n",
    "\n",
    "    def forward(self, X):\n",
    "        X = self.dropout(F.leaky_relu(self.dense0(X), 0.2))\n",
    "        X = self.dropout(F.leaky_relu(self.dense1(X), 0.2))\n",
    "        X = self.dropout(F.leaky_relu(self.dense2(X), 0.2))\n",
    "        X = self.dropout(F.leaky_relu(self.dense22(X), 0.2))        \n",
    "        X = torch.tanh(self.dense3(X))\n",
    "        #X = X.view(X.shape[0], 28, 28)\n",
    "        return X\n",
    "G = GeneratorD2()"
   ]
  },
  {
   "cell_type": "markdown",
   "id": "e8202bce",
   "metadata": {},
   "source": [
    "### 4.2.3 - Gerador Deep RECORRENTE"
   ]
  },
  {
   "cell_type": "code",
   "execution_count": null,
   "id": "d45fda13",
   "metadata": {},
   "outputs": [],
   "source": []
  },
  {
   "cell_type": "code",
   "execution_count": null,
   "id": "7c78586f",
   "metadata": {},
   "outputs": [],
   "source": []
  },
  {
   "cell_type": "markdown",
   "id": "384826f2",
   "metadata": {},
   "source": [
    "## 4.3 Inicializando as peças"
   ]
  },
  {
   "cell_type": "markdown",
   "id": "d22c0bb8",
   "metadata": {},
   "source": [
    "### 4.3.1 Definindo as peças"
   ]
  },
  {
   "cell_type": "markdown",
   "id": "5a5cbd29",
   "metadata": {},
   "source": [
    "#### 4.3.1.1 Definindo as rede Gerador Discriminador "
   ]
  },
  {
   "cell_type": "code",
   "execution_count": 874,
   "id": "50abf708",
   "metadata": {},
   "outputs": [],
   "source": [
    "discriminator=DiscriminatorD()\n",
    "generator = GeneratorD()"
   ]
  },
  {
   "cell_type": "markdown",
   "id": "b2f690a5",
   "metadata": {},
   "source": [
    "#### 4.3.1.2 - Definindo os parâmetros do modelo"
   ]
  },
  {
   "cell_type": "markdown",
   "id": "224a8158",
   "metadata": {},
   "source": [
    "##### 4.3.1.2.1 - Pelo site"
   ]
  },
  {
   "cell_type": "code",
   "execution_count": 875,
   "id": "a5dbded3",
   "metadata": {},
   "outputs": [],
   "source": [
    "lr = 1e-3\n",
    "lrD = 4e-4\n",
    "lrG = 4e-4\n",
    "num_epochs = 1000\n",
    "\n",
    "loss_functionD = nn.BCELoss()\n",
    "loss_functionG = nn.MSELoss()\n",
    "\n",
    "criterion = nn.BCEWithLogitsLoss()"
   ]
  },
  {
   "cell_type": "markdown",
   "id": "60c842fe",
   "metadata": {},
   "source": [
    "##### 4.3.1.2.2 - Pelo curso"
   ]
  },
  {
   "cell_type": "code",
   "execution_count": null,
   "id": "6333a163",
   "metadata": {},
   "outputs": [],
   "source": []
  },
  {
   "cell_type": "markdown",
   "id": "1092dd11",
   "metadata": {},
   "source": [
    "#### 4.3.1.2 - Iinicializando os modelos"
   ]
  },
  {
   "cell_type": "code",
   "execution_count": 876,
   "id": "f217c37a",
   "metadata": {},
   "outputs": [],
   "source": [
    "#SITE\n",
    "optimizer_discriminator = torch.optim.Adam(discriminator.parameters(), lr=lr)\n",
    "optimizer_generator = torch.optim.Adam(generator.parameters(), lr=lr)"
   ]
  },
  {
   "cell_type": "code",
   "execution_count": 877,
   "id": "9c2b8bc5",
   "metadata": {},
   "outputs": [],
   "source": [
    "# CURSO\n",
    "G_optimizer = optim.Adam(G.parameters(), lr=lrG)\n",
    "D_optimizer = optim.Adam(D.parameters(), lr=lrD)"
   ]
  },
  {
   "cell_type": "code",
   "execution_count": 878,
   "id": "621dd88b",
   "metadata": {},
   "outputs": [],
   "source": [
    "device = torch.device('cuda') if torch.cuda.is_available else torch.device('cpu')\n",
    "device\n",
    "device=torch.device('cpu')"
   ]
  },
  {
   "cell_type": "code",
   "execution_count": 879,
   "id": "782950f3",
   "metadata": {},
   "outputs": [
    {
     "data": {
      "text/plain": [
       "GeneratorD2(\n",
       "  (dense0): Linear(in_features=4, out_features=32, bias=True)\n",
       "  (dense1): Linear(in_features=32, out_features=64, bias=True)\n",
       "  (dense2): Linear(in_features=64, out_features=128, bias=True)\n",
       "  (dense22): Linear(in_features=128, out_features=128, bias=True)\n",
       "  (dense3): Linear(in_features=128, out_features=1, bias=True)\n",
       "  (dropout): Dropout(p=0.3, inplace=False)\n",
       ")"
      ]
     },
     "execution_count": 879,
     "metadata": {},
     "output_type": "execute_result"
    }
   ],
   "source": [
    "G.to(device)"
   ]
  },
  {
   "cell_type": "code",
   "execution_count": 880,
   "id": "ebd10811",
   "metadata": {},
   "outputs": [
    {
     "data": {
      "text/plain": [
       "DiscriminatorD2(\n",
       "  (dense0): Linear(in_features=5, out_features=128, bias=True)\n",
       "  (dense1): Linear(in_features=128, out_features=64, bias=True)\n",
       "  (dense2): Linear(in_features=64, out_features=32, bias=True)\n",
       "  (dense3): Linear(in_features=32, out_features=1, bias=True)\n",
       "  (dropout): Dropout(p=0.3, inplace=False)\n",
       ")"
      ]
     },
     "execution_count": 880,
     "metadata": {},
     "output_type": "execute_result"
    }
   ],
   "source": [
    "D.to(device)"
   ]
  },
  {
   "cell_type": "markdown",
   "id": "6d123e18",
   "metadata": {},
   "source": [
    "# 5 Treinamento do Modelo"
   ]
  },
  {
   "cell_type": "markdown",
   "id": "b442fdbf",
   "metadata": {},
   "source": [
    "## 5.1 Treinamento do Modelo Versão 1"
   ]
  },
  {
   "cell_type": "markdown",
   "id": "dea8ad5b",
   "metadata": {},
   "source": [
    "### Crinado variável para acumular função erros ao longo das épocas."
   ]
  },
  {
   "cell_type": "code",
   "execution_count": 881,
   "id": "b972d8e7",
   "metadata": {},
   "outputs": [
    {
     "data": {
      "text/plain": [
       "(0,)"
      ]
     },
     "execution_count": 881,
     "metadata": {},
     "output_type": "execute_result"
    }
   ],
   "source": [
    "import numpy as np\n",
    "history_lossG = []\n",
    "np.shape(history_lossG)"
   ]
  },
  {
   "cell_type": "code",
   "execution_count": null,
   "id": "a3a966f9",
   "metadata": {},
   "outputs": [],
   "source": []
  },
  {
   "cell_type": "markdown",
   "id": "551bad9a",
   "metadata": {},
   "source": [
    "## 5.1.2 LOOP DE TREINAMENTO - site"
   ]
  },
  {
   "cell_type": "code",
   "execution_count": 882,
   "id": "856e4e5a",
   "metadata": {},
   "outputs": [
    {
     "name": "stdout",
     "output_type": "stream",
     "text": [
      "CPU times: user 10 µs, sys: 0 ns, total: 10 µs\n",
      "Wall time: 20 µs\n"
     ]
    }
   ],
   "source": [
    "%time\n",
    "num_epochs=-2000\n",
    "for epoch in range(num_epochs):\n",
    "    running_loss = 0.\n",
    "    running_mae = 0.\n",
    "    for n, (XYreal, _) in enumerate(train_loader):\n",
    "\n",
    "# Montando dado para o discriminador - Vetor com 2*batchsize amostras. Metade y REAL metade y FAKE\n",
    "        XYreal_labels = torch.ones((len(XYreal), 1))          # Gerando rotulos  real\n",
    "        XYfake_abels = torch.zeros((len(XYreal), 1))          # Gerando rotulos fake\n",
    "    \n",
    "        Xreal = XYreal[:,0:lags].reshape(len(XYreal),lags)    # Pegando o x real\n",
    "        Yfake = generator(Xreal)                              # modelando y fake com o x \n",
    "\n",
    "        XYfake=torch.zeros((len(XYreal), lags+1))             # Criando tensor para juntar x com y fake\n",
    "        XYfake[:,-1] = Yfake[:,0]                             # Preenchendo a última coluna com y fake\n",
    "        XYfake[:,0:lags] = Xreal                              # Preenchendo as colunas x real \n",
    "        \n",
    "        all_samples = torch.cat((XYreal, XYfake))             # Concatenado x,y  REAL com x,y FAKE\n",
    "        all_samples_labels = torch.cat((XYreal_labels, XYfake_abels)) # juntando rotulos\n",
    "\n",
    "        # Training the discriminator\n",
    "        discriminator.zero_grad()\n",
    "        output_discriminator = discriminator(all_samples)\n",
    "        loss_discriminator = loss_functionD(output_discriminator, all_samples_labels)\n",
    "        loss_discriminator.backward()\n",
    "        optimizer_discriminator.step()\n",
    "        ########## Pronto, discriminador treinado   ########## \n",
    "        \n",
    "# Montando dado para o discriminador - Vetor com 2*batchsize amostras. Metade y REAL metade y FAKE\n",
    "        Xreal = XYreal[:,0:lags].reshape(len(XYreal),lags)    # Pegando o x real\n",
    "        generator.zero_grad()                                 # Zerando o gradiente\n",
    "        Yfake = generator(Xreal)                              # modelando y fake com o x \n",
    "        \n",
    "        XYfake=torch.zeros((len(XYreal), lags+1))             # Criando tensor para juntar x com y fake\n",
    "        XYfake[:,-1] = Yfake[:,0]                             # Preenchendo a última coluna com y fake\n",
    "        XYfake[:,0:lags] = Xreal                              # Preenchendo as colunas x real \n",
    "        \n",
    "        output_discriminator_generated = discriminator(XYfake) # Gerando rótulos com o discriminador\n",
    "        # Avaliando os erros do discriminador\n",
    "        loss_generator_discriminador = loss_functionG(output_discriminator_generated, XYreal_labels)\n",
    "        # Atualizando o gerador com os erros do discriminador.\n",
    "        loss_generator_discriminador.backward()\n",
    "        optimizer_generator.step()\n",
    "\n",
    "        \n",
    "# Para Verbose ######################################################################################\n",
    "# Para Verbose ######################################################################################\n",
    "# Para Verbose ######################################################################################\n",
    "        Yreal = torch.ones((len(XYreal), 1))\n",
    "        Yreal[:,0] = XYreal[:,-1]\n",
    "\n",
    "        loss_generator_discriminador = loss_functionG(Yfake, Yreal)\n",
    "        \n",
    "        running_loss += loss_generator_discriminador.item()        \n",
    "        mae = mean_absolute_error(XYreal_labels.detach().cpu().numpy().flatten(), \n",
    "                                  output_discriminator_generated.detach().cpu().numpy().flatten())\n",
    "        running_mae += mae\n",
    "\n",
    "\n",
    "    running_loss /= len(XYreal)\n",
    "    running_mae /= len(XYreal)\n",
    "    print('ÉPOCA {:3d} FINALIZADA: custo {:03.6f} - MAE {:03.6f}     '.format(epoch+1, running_loss, running_mae))\n",
    "    \n",
    "    history_lossG.append(running_loss)\n"
   ]
  },
  {
   "cell_type": "markdown",
   "id": "3be6c8c5",
   "metadata": {},
   "source": [
    "from pylab import rcParams\n",
    "rcParams['figure.figsize'] = 10,3\n",
    "yYreal=dataset[-250:,-1] \n",
    "xXreal=dataset[-250:,0:lags]\n",
    "\n",
    "plt.plot(generator(xXreal).detach(), '-')\n",
    "plt.plot(yYreal.detach(), '-')\n",
    "np.shape(yYreal)\n"
   ]
  },
  {
   "cell_type": "markdown",
   "id": "6000398c",
   "metadata": {},
   "source": [
    "## 5.1.3 LOOP DE TREINAMENTO - curso"
   ]
  },
  {
   "cell_type": "code",
   "execution_count": 883,
   "id": "205c987a",
   "metadata": {},
   "outputs": [],
   "source": [
    "num_epochs=9000\n",
    "for epoch in range(num_epochs):\n",
    "    D_running_loss = 0\n",
    "    G_running_loss = 0\n",
    "    \n",
    "    for i, (XYreal, _) in enumerate(train_loader):\n",
    "        batch_size = XYreal.size(0)           # Tamanho da batch = Quantidade de amostras por batch\n",
    "        XYreal = XYreal * 2 - 1               # Convertendo a base de dados para (-1,1) pq F.Tanh é nesse range\n",
    "        XYreal = XYreal.to(device)            # Mandando a imagem para GPU\n",
    "        \n",
    "#######################################################################################\n",
    "# Treinamento do gerador\n",
    "#--------------------------------------------------------------------------------------\n",
    "        G_optimizer.zero_grad()        \n",
    "        Xreal = XYreal[:,0:lags].reshape(len(XYreal),lags)     # Pegando o x real\n",
    "        Xreal = Xreal.to(device)                               # Mandando a imagem para GPU\n",
    "        Yfake = G.forward(Xreal)                               # modelando y fake com o x \n",
    "\n",
    "        XYfake=torch.zeros((len(XYreal), lags+1))              # Criando tensor para juntar x com y fake\n",
    "        XYfake[:,-1] = Yfake[:,0]                              # Preenchendo a última coluna com y fake\n",
    "        XYfake[:,0:lags] = Xreal                               # Preenchendo as colunas x real \n",
    "        XYfake = XYfake.to(device)                             # Mandando a imagem para GPU\n",
    "          \n",
    "        outputs_XYfake = D.forward(XYfake)                     # Aqui passamos as imagens geradas para o descridador dizer qual a \n",
    "        labels_XYfake  = torch.ones(len(XYreal), 1) .to(device)    # Aqui calculamos o rótulo da imagem falsa.\n",
    "        G_loss = criterion(outputs_XYfake, labels_XYfake)      # Aqui calculamos o contrerro do descriminador que é usado como erro do gerador.\n",
    "    \n",
    "        G_loss.backward()                                      # Inicialização do Backpropagation\n",
    "        G_optimizer.step()                                     # Atualização dos pesos.\n",
    "        \n",
    "#######################################################################################\n",
    "# Treinamento do discriminador\n",
    "#--------------------------------------------------------------------------------------\n",
    "        # Trabalhando com os dados reais\n",
    "        D_optimizer.zero_grad()                             \n",
    "        outputs_XYreal = D.forward(XYreal)                          # Modelagem do discriminador para os dados reais - esperado que seja 1\n",
    "        labels_XYreal  = (torch.ones(len(XYreal), 1)*0.9).to(device)   # Aqui calculamos o rótulo da imagem falsa.  # Coletandos labels reais e aplicando um suavizaor (um ruidinho) - ajuda a generalizar\n",
    "        D_loss_reais   = criterion(outputs_XYreal, labels_XYreal)   # Calculo do loss do Discriminador dado real\n",
    "        \n",
    "        # Trabalhando com os dados fake\n",
    "        Yfake = G.forward(Xreal)                                 # modelando y fake com o x \n",
    "        XYfake=torch.zeros((len(XYreal), lags+1))                # Criando tensor para juntar x com y fake\n",
    "        XYfake[:,-1] = Yfake[:,0]                                # Preenchendo a última coluna com y fake\n",
    "        XYfake[:,0:lags] = Xreal                                 # Preenchendo as colunas x real \n",
    "        XYfake = XYfake.to(device)                               # Mandando a imagem para GPU        \n",
    "\n",
    "        outputs_XYfake = D.forward(XYfake)                       # Modelagem do discriminador para os dados reais - esperado que seja 0\n",
    "        labels_XYfake = torch.zeros(len(XYreal), 1).to(device)   # Gerando rótulos das imagens fake  \n",
    "        D_loss_falsas = criterion(outputs_XYfake, labels_XYfake) # Calculo do loss do discriminador dado fake\n",
    "\n",
    "        D_loss = D_loss_reais + D_loss_falsas                      # Para cada par real + fake somamos os erros cometidos\n",
    "        D_loss.backward()                                          # Passamos esse erro para o Backpropagation\n",
    "        D_optimizer.step()                                         # Atualizamos o modelo\n",
    "\n",
    "        D_running_loss += D_loss.item()                            # Calculo do err para print\n",
    "        G_running_loss += G_loss.item()                            # Calculo do err para print\n",
    "\n",
    "        # Imprimindo os dados referentes a esse batch   \n",
    "#        print('\\rÉpoca {:03d} - Loop {:3d} de {:3d}: custo discriminador {:03.5f} - custo gerador {:03.5f}'.format(epoch + 1, i + 1, len(train_loader), D_loss.item(), G_loss.item()), end = '\\r')\n",
    "  \n",
    "    # Imprimindo os dados referentes a essa época\n",
    "#    D_running_loss /= len(train_loader)\n",
    "#    G_running_loss /= len(train_loader)\n",
    "#    print('ÉPOCA {:03d} finalizada: custo discriminador {:03.6f} - custo gerador {:03.6f}      '.format(epoch + 1, D_running_loss, G_running_loss))\n"
   ]
  },
  {
   "cell_type": "code",
   "execution_count": null,
   "id": "53da93a9",
   "metadata": {},
   "outputs": [],
   "source": []
  },
  {
   "cell_type": "code",
   "execution_count": 884,
   "id": "079940e0",
   "metadata": {},
   "outputs": [
    {
     "data": {
      "text/plain": [
       "GeneratorD2(\n",
       "  (dense0): Linear(in_features=4, out_features=32, bias=True)\n",
       "  (dense1): Linear(in_features=32, out_features=64, bias=True)\n",
       "  (dense2): Linear(in_features=64, out_features=128, bias=True)\n",
       "  (dense22): Linear(in_features=128, out_features=128, bias=True)\n",
       "  (dense3): Linear(in_features=128, out_features=1, bias=True)\n",
       "  (dropout): Dropout(p=0.3, inplace=False)\n",
       ")"
      ]
     },
     "execution_count": 884,
     "metadata": {},
     "output_type": "execute_result"
    }
   ],
   "source": [
    "G.eval()"
   ]
  },
  {
   "cell_type": "code",
   "execution_count": 885,
   "id": "bdf9f1db",
   "metadata": {},
   "outputs": [
    {
     "data": {
      "text/plain": [
       "<matplotlib.legend.Legend at 0x7f8d772b1130>"
      ]
     },
     "execution_count": 885,
     "metadata": {},
     "output_type": "execute_result"
    },
    {
     "data": {
      "image/png": "[encoded data removed]",
      "text/plain": [
       "<Figure size 720x216 with 1 Axes>"
      ]
     },
     "metadata": {},
     "output_type": "display_data"
    }
   ],
   "source": [
    "from pylab import rcParams\n",
    "rcParams['figure.figsize'] = 10,3\n",
    "yYreal=dataset[:,-1] \n",
    "xXreal=dataset[:,0:lags]*2-1\n",
    "xXreal=xXreal.to(device)\n",
    "plt.plot((G.forward(xXreal).cpu().detach().numpy()+1)/2, '-',label='Fake')\n",
    "plt.plot(yYreal.detach(), '-',label='Real')\n",
    "np.shape(yYreal)\n",
    "plt.legend(loc='upper left', shadow=True, fontsize='x-large')\n",
    "\n"
   ]
  },
  {
   "cell_type": "code",
   "execution_count": 886,
   "id": "5b1b776e",
   "metadata": {},
   "outputs": [
    {
     "data": {
      "text/plain": [
       "0.14660457"
      ]
     },
     "execution_count": 886,
     "metadata": {},
     "output_type": "execute_result"
    },
    {
     "data": {
      "image/png": "[encoded data removed]",
      "text/plain": [
       "<Figure size 720x216 with 1 Axes>"
      ]
     },
     "metadata": {},
     "output_type": "display_data"
    }
   ],
   "source": [
    "from pylab import rcParams\n",
    "rcParams['figure.figsize'] = 10,3\n",
    "yYreal=dataset[-250:,-1] \n",
    "xXreal=dataset[-250:,0:lags]*2-1\n",
    "xXreal=xXreal.to(device)\n",
    "erro=(((G.forward(xXreal).cpu().detach().numpy()+1)/2))-((yYreal.detach().numpy().reshape(len(yYreal),1)))\n",
    "plt.plot(abs(erro), '*')\n",
    "abs(erro).mean()"
   ]
  },
  {
   "cell_type": "markdown",
   "id": "0e1b3ba0",
   "metadata": {},
   "source": [
    "# 6 Avaliação do modelo"
   ]
  },
  {
   "cell_type": "markdown",
   "id": "f2fed268",
   "metadata": {},
   "source": [
    "## Bibliotecas necessárias - Felipe"
   ]
  },
  {
   "cell_type": "markdown",
   "id": "5edc00f6",
   "metadata": {},
   "source": [
    "## 6.1 Trabalhando com dados de VALIDAÇÃO - Teste"
   ]
  },
  {
   "cell_type": "code",
   "execution_count": 887,
   "id": "fa282239",
   "metadata": {},
   "outputs": [
    {
     "data": {
      "text/plain": [
       "(torch.Size([7, 4]), torch.Size([7]))"
      ]
     },
     "execution_count": 887,
     "metadata": {},
     "output_type": "execute_result"
    }
   ],
   "source": [
    "XV = test_set[:-1,:-1]#.reshape(len(XYreal),lags) \n",
    "yV = test_set[:-1,-1]\n",
    "np.shape(XV),np.shape(yV)"
   ]
  },
  {
   "cell_type": "code",
   "execution_count": 888,
   "id": "eaa88ad6",
   "metadata": {},
   "outputs": [
    {
     "data": {
      "text/plain": [
       "[<matplotlib.lines.Line2D at 0x7f8d77148ee0>]"
      ]
     },
     "execution_count": 888,
     "metadata": {},
     "output_type": "execute_result"
    },
    {
     "data": {
      "image/png": "[encoded data removed]",
      "text/plain": [
       "<Figure size 1152x288 with 1 Axes>"
      ]
     },
     "metadata": {},
     "output_type": "display_data"
    }
   ],
   "source": [
    "from pylab import rcParams\n",
    "rcParams['figure.figsize'] = 16,4\n",
    "plt.plot(yV[-150:])"
   ]
  },
  {
   "cell_type": "markdown",
   "id": "511504bd",
   "metadata": {},
   "source": [
    "## 6.5 Previsão"
   ]
  },
  {
   "cell_type": "code",
   "execution_count": 889,
   "id": "5a68be7e",
   "metadata": {},
   "outputs": [],
   "source": [
    "yV1=yV[:] \n",
    "XV1=XV[:,:]*2-1\n",
    "XV1=XV1.to(device)\n",
    "previsto=(((G.forward(XV1).cpu().detach().numpy()+1)/2))"
   ]
  },
  {
   "cell_type": "markdown",
   "id": "27e8a22c",
   "metadata": {},
   "source": [
    "## 6.6 Normalização inversa"
   ]
  },
  {
   "cell_type": "code",
   "execution_count": 890,
   "id": "173e8941",
   "metadata": {},
   "outputs": [],
   "source": [
    "Yprevisto=normalizador.inverse_transform(previsto)\n",
    "Yreal=normalizador.inverse_transform(((yV1.detach().numpy().reshape(len(yV1),1))))"
   ]
  },
  {
   "cell_type": "markdown",
   "id": "bae90981",
   "metadata": {},
   "source": [
    "## 6.7 Avaliação dos resultados"
   ]
  },
  {
   "cell_type": "code",
   "execution_count": 891,
   "id": "af11aa14",
   "metadata": {},
   "outputs": [
    {
     "data": {
      "text/plain": [
       "<matplotlib.legend.Legend at 0x7f8d7712cd30>"
      ]
     },
     "execution_count": 891,
     "metadata": {},
     "output_type": "execute_result"
    },
    {
     "data": {
      "image/png": "[encoded data removed]",
      "text/plain": [
       "<Figure size 720x288 with 1 Axes>"
      ]
     },
     "metadata": {},
     "output_type": "display_data"
    }
   ],
   "source": [
    "from pylab import rcParams\n",
    "rcParams['figure.figsize'] = 10,4\n",
    "yV1=yV[:] \n",
    "XV1=XV[:,:]*2-1\n",
    "XV1=XV1.to(device)\n",
    "plt.plot(Yprevisto, '-',label='Fake')\n",
    "plt.plot(Yreal, '-*',label='Real')\n",
    "plt.legend(loc='upper left', shadow=True, fontsize='x-large')"
   ]
  },
  {
   "cell_type": "markdown",
   "id": "06b18909",
   "metadata": {},
   "source": [
    "### 6.7.2 - Ánalise do erro absoludo "
   ]
  },
  {
   "cell_type": "code",
   "execution_count": 892,
   "id": "935d26b3",
   "metadata": {},
   "outputs": [
    {
     "data": {
      "text/plain": [
       "[<matplotlib.lines.Line2D at 0x7f8d770a57f0>]"
      ]
     },
     "execution_count": 892,
     "metadata": {},
     "output_type": "execute_result"
    },
    {
     "data": {
      "image/png": "[encoded data removed]",
      "text/plain": [
       "<Figure size 720x288 with 1 Axes>"
      ]
     },
     "metadata": {},
     "output_type": "display_data"
    }
   ],
   "source": [
    "erro=Yprevisto-Yreal\n",
    "plt.plot(abs(erro)/max(Yreal), '*')"
   ]
  },
  {
   "cell_type": "markdown",
   "id": "a7c5373e",
   "metadata": {},
   "source": [
    "### 6.7.2 - Calculo do erro absoludo médio"
   ]
  },
  {
   "cell_type": "code",
   "execution_count": 893,
   "id": "5c8aef93",
   "metadata": {},
   "outputs": [
    {
     "name": "stdout",
     "output_type": "stream",
     "text": [
      "O modelo teve um erro absoluto médio de': 10.196014%\n"
     ]
    }
   ],
   "source": [
    "print(\"O modelo teve um erro absoluto médio de': %f%%\" %  (((abs(erro)/max(abs(Yreal))).mean())*100) )"
   ]
  },
  {
   "cell_type": "markdown",
   "id": "a3f13614",
   "metadata": {},
   "source": [
    "R² Coefficient of determination\n",
    "\n",
    "R² Coefficient of determination actually works as a post metric, meaning it’s a metric that’s calculated using other metrics. \n",
    "\n",
    "The point of even calculating this coefficient is to answer the question “How much (what %) of the total variation in Y(target) is explained by the variation in X(regression line)”\n",
    "\n",
    "This is calculated using the sum of squared errors. Let’s go through the formulation to understand it better.\n",
    "\n",
    "Total variation in Y (Variance of Y):\n",
    "\n",
    "Percentage of variation described the regression line:\n",
    "\n",
    "Subsequently, the percentage of variation described the regression line:\n",
    "\n",
    "Finally, we have our formula for the coefficient of determination, which can tell us how good or bad the fit of the regression line is:\n",
    "\n",
    "This coefficient can be implemented simply using NumPy arrays in Python"
   ]
  },
  {
   "cell_type": "code",
   "execution_count": 894,
   "id": "064728de",
   "metadata": {},
   "outputs": [
    {
     "data": {
      "text/plain": [
       "array([-0.19111717], dtype=float32)"
      ]
     },
     "execution_count": 894,
     "metadata": {},
     "output_type": "execute_result"
    }
   ],
   "source": [
    "# R^2 coefficient of determination\n",
    "SE_line = sum((Yreal-Yprevisto)**2)\n",
    "SE_mean = sum((Yreal-Yreal.mean())**2)\n",
    "r2 = 1-(SE_line/SE_mean)\n",
    "r2a=1-((len(Yreal)-1)/(len(Yreal)-(1+1))*(1-r2*r2))\n",
    "r2a       \n",
    "#print(f\"R^2 coefficient of determination: {r2*100:0.2f}%\")"
   ]
  },
  {
   "cell_type": "code",
   "execution_count": 895,
   "id": "460adbee",
   "metadata": {},
   "outputs": [
    {
     "name": "stdout",
     "output_type": "stream",
     "text": [
      "0.08603726536625744\n"
     ]
    }
   ],
   "source": [
    "from sklearn.metrics import r2_score \n",
    "# em metrics, temos quase todas as metricas geralmete utilizadas\n",
    "\n",
    "R2 = r2_score(Yreal,Yprevisto)\n",
    "print(R2)    "
   ]
  },
  {
   "cell_type": "code",
   "execution_count": 896,
   "id": "bdce66b6",
   "metadata": {},
   "outputs": [
    {
     "data": {
      "text/plain": [
       "-1.7418882039012278"
      ]
     },
     "execution_count": 896,
     "metadata": {},
     "output_type": "execute_result"
    }
   ],
   "source": [
    "def adjusted_r2(y_test, y_pred,X_train):\n",
    "    from sklearn.metrics import r2_score\n",
    "    adj_r2 = (1 - ((1 - r2_score(y_test, y_pred)) * (len(y_test) - 1)) / (len(y_test) - X_train.shape[1] - 1))\n",
    "    return adj_r2\n",
    "\n",
    "adjusted_r2(Yreal,Yprevisto,XV1)"
   ]
  },
  {
   "cell_type": "code",
   "execution_count": 897,
   "id": "96a50297",
   "metadata": {},
   "outputs": [
    {
     "data": {
      "text/plain": [
       "4"
      ]
     },
     "execution_count": 897,
     "metadata": {},
     "output_type": "execute_result"
    }
   ],
   "source": [
    "XV1.shape[1]"
   ]
  },
  {
   "cell_type": "code",
   "execution_count": 898,
   "id": "f59989d4",
   "metadata": {},
   "outputs": [],
   "source": [
    "#Erro Percentual Absoluto Médio (MAPE)"
   ]
  },
  {
   "cell_type": "code",
   "execution_count": 899,
   "id": "fd39d0fc",
   "metadata": {},
   "outputs": [
    {
     "name": "stdout",
     "output_type": "stream",
     "text": [
      "Valor do MAPE dado em percentual: 5.420399084687233\n"
     ]
    }
   ],
   "source": [
    "import numpy as np\n",
    "\n",
    "MAPE = np.mean(np.abs((Yreal - Yprevisto)/ (max(Yreal)+Yprevisto))) * 100\n",
    "\n",
    "print(f\"Valor do MAPE dado em percentual: {MAPE}\")"
   ]
  },
  {
   "cell_type": "markdown",
   "id": "1ab873a0",
   "metadata": {},
   "source": [
    "# 8 Reorganizando dados adicionando header"
   ]
  },
  {
   "cell_type": "code",
   "execution_count": 900,
   "id": "36650ac0",
   "metadata": {},
   "outputs": [],
   "source": [
    "Teste1=Dt[int(Percent_train*len(y)):len(y)]\n",
    "Teste2=Dt[-len(Yprevisto):] "
   ]
  },
  {
   "cell_type": "markdown",
   "id": "4329bfeb",
   "metadata": {},
   "source": [
    "### Adcicionando header nos dados "
   ]
  },
  {
   "cell_type": "code",
   "execution_count": 901,
   "id": "d5d2859d",
   "metadata": {},
   "outputs": [],
   "source": [
    "interval=Teste2.index\n",
    "\n",
    "predictions=pd.DataFrame(Yprevisto)\n",
    "predictions['Date']=interval\n",
    "predictions.set_index('Date', inplace=True)\n",
    "predictions.columns=['fGAN']\n",
    "#predictions.head()\n",
    "\n",
    "Yreal_data=pd.DataFrame(Yreal)\n",
    "Yreal_data['Date']=interval\n",
    "Yreal_data.set_index('Date', inplace=True)\n",
    "Yreal_data.columns=['Real']\n",
    "#predictions.head()\n",
    "\n",
    "concatenado_FAIXATESTE = pd.merge(predictions,Yreal_data, how = 'outer', on = 'Date')\n",
    "concatenado_FAIXATESTE.columns=['fGAN','Real']"
   ]
  },
  {
   "cell_type": "markdown",
   "id": "805e95de",
   "metadata": {},
   "source": [
    "## Salvando os resultados"
   ]
  },
  {
   "cell_type": "code",
   "execution_count": 902,
   "id": "547b6bc1",
   "metadata": {},
   "outputs": [],
   "source": [
    "concatenado_FAIXATESTE.to_excel(\"RESULTADOS_full_fGAN/Serie_Dado_real_plu_fGAN_weekly.xlsx\")"
   ]
  },
  {
   "cell_type": "markdown",
   "id": "48fd53c9",
   "metadata": {},
   "source": [
    "## Plotando os resultados"
   ]
  },
  {
   "cell_type": "code",
   "execution_count": 903,
   "id": "ec381b3d",
   "metadata": {},
   "outputs": [
    {
     "data": {
      "image/png": "[encoded data removed]",
      "text/plain": [
       "<Figure size 864x576 with 1 Axes>"
      ]
     },
     "metadata": {},
     "output_type": "display_data"
    }
   ],
   "source": [
    "# Vamos plotar\n",
    "########################################################################################\n",
    "####          PLOTANDO OS RESULTADOS EM PDF\n",
    "########################################################################################\n",
    "#----------------------------------------------------------------------------------------------------------\n",
    "# Vamos agora plotar tanto o modelo, a previsão e a série original.\n",
    "import matplotlib \n",
    "matplotlib.rc('xtick', labelsize=13)  # Alterando a fonte \n",
    "matplotlib.rc('ytick', labelsize=13)  # Alterando a fonte \n",
    "plt.style.use('ggplot')\n",
    "tick_spacing = 12\n",
    "\n",
    "#----------------------------------------------------------------------------------------------------------\n",
    "fig=plt.figure(figsize=(12,8))\n",
    "ax=fig.add_axes([0.06, 0.12, 0.92, 0.5])\n",
    "#---------------------------------------------------------------------------------------------------------\n",
    "# Colocando toda a faixa de previsão e de modelagem\n",
    "concatenado_FAIXATESTE['fGAN'].plot(ax=ax,marker='.', color='blue', legend=True, \n",
    "                                    title='Time series for 1-week period', fontsize=14)\n",
    "#----------------------------------------------------------------------------------------------------------\n",
    "# Colocando só a faixa de previsão\n",
    "concatenado_FAIXATESTE['Real'].plot(ax=ax,marker='.', color='red', fontsize=14, legend=True)\n",
    "\n",
    "plt.xticks(rotation = -20, fontsize=14, color='black')\n",
    "plt.yticks(fontsize=14, color='black')\n",
    "#ax.xaxis.set_major_locator(ticker.MultipleLocator(tick_spacing))\n",
    "\n",
    "ax.set_ylabel('Global radiation (W/m$^2/$week)', fontsize=14, color='black')\n",
    "ax.set_xlabel('Time(Y-M-D)', fontsize=14, color='black')\n",
    "\n",
    "legend = ax.legend(loc='upper right', shadow=True, fontsize='x-large')\n",
    "\n",
    "#fig.tight_layout()\n",
    "fig.savefig(\"RESULTADOS_full_fGAN/Serie_Dado_real_plu_fGAN_week.png\", bbox_inches='tight')"
   ]
  },
  {
   "cell_type": "code",
   "execution_count": null,
   "id": "c908a823",
   "metadata": {},
   "outputs": [],
   "source": []
  },
  {
   "cell_type": "code",
   "execution_count": null,
   "id": "16c15ad5",
   "metadata": {},
   "outputs": [],
   "source": []
  },
  {
   "cell_type": "code",
   "execution_count": 904,
   "id": "66d743fa",
   "metadata": {},
   "outputs": [
    {
     "name": "stdout",
     "output_type": "stream",
     "text": [
      "MAE: 29916.264\n",
      "MSE: 1298181100.0\n",
      "RMSE: 36030.28\n"
     ]
    }
   ],
   "source": [
    "from sklearn import metrics\n",
    "print('MAE:', metrics.mean_absolute_error(Yreal_data, predictions))\n",
    "print('MSE:', metrics.mean_squared_error(Yreal_data, predictions))\n",
    "print('RMSE:', np.sqrt(metrics.mean_squared_error(Yreal_data, predictions)))"
   ]
  },
  {
   "cell_type": "code",
   "execution_count": null,
   "id": "d1028a86",
   "metadata": {},
   "outputs": [],
   "source": []
  },
  {
   "cell_type": "code",
   "execution_count": null,
   "id": "ca5fab0a",
   "metadata": {},
   "outputs": [],
   "source": []
  },
  {
   "cell_type": "code",
   "execution_count": 905,
   "id": "fb26caf7",
   "metadata": {},
   "outputs": [
    {
     "data": {
      "image/png": "[encoded data removed]",
      "text/plain": [
       "<Figure size 720x360 with 1 Axes>"
      ]
     },
     "metadata": {},
     "output_type": "display_data"
    }
   ],
   "source": [
    "#def Carta_Controle1(predictions,test_Y2):\n",
    "rcParams['figure.figsize'] = 10, 5\n",
    "erro=pd.DataFrame\n",
    "erro=Yreal_data['Real']- predictions['fGAN']\n",
    "#erro.to_csv(\"/home/rodrigo/Dropbox/Estudando_IA/PIBIC_UFBA/erro_previsao_RBF3.csv\")\n",
    "def Carta_Controle1(erro):\n",
    "    barra_erro=erro.mean()\n",
    "    desvio_erroc=erro.std()\n",
    "    LSC=[]\n",
    "    LIC=[]\n",
    "    LM=[]\n",
    "    i=0\n",
    "    while i <len(erro):\n",
    "        LIC.append(barra_erro-3*desvio_erroc)\n",
    "        LSC.append(barra_erro+3*desvio_erroc)\n",
    "        LM.append(barra_erro)\n",
    "        i+=1\n",
    "    erroV=erro.values.astype('float32')\n",
    "    fig, ax = plt.subplots(1,1)\n",
    "    plt.plot(erroV, 'bo')\n",
    "    plt.plot(erroV, 'b', label='err')\n",
    "    plt.plot(LSC, 'g--', label='LSC')\n",
    "    plt.plot(LIC, 'r--', label='LIC')\n",
    "    plt.plot(LM, 'black', label='LM')\n",
    "    plt.title('Residuals control charts')\n",
    "    plt.yticks(fontsize=14, color='black')\n",
    "    plt.xticks(fontsize=14, color='black')   \n",
    "    ax.set_ylabel('Relative residuals(W/m$^2/$week)', fontsize=14, color='black')\n",
    "    \n",
    "    ax.legend(loc='upper left', bbox_to_anchor=(0.265, -0.07), shadow=True, ncol=4)\n",
    "    fig.savefig('RESULTADOS_full_fGAN/Serie_Dado_real_plu_fGAN_ERRO_week.pdf', format='pdf')\n",
    "Carta_Controle1(erro)"
   ]
  },
  {
   "cell_type": "code",
   "execution_count": 906,
   "id": "c2ef6d5e",
   "metadata": {},
   "outputs": [
    {
     "data": {
      "image/png": "[encoded data removed]",
      "text/plain": [
       "<Figure size 720x360 with 1 Axes>"
      ]
     },
     "metadata": {},
     "output_type": "display_data"
    }
   ],
   "source": [
    "#def Carta_Controle1(predictions,test_Y2):\n",
    "rcParams['figure.figsize'] = 10, 5\n",
    "erro=pd.DataFrame\n",
    "erro=(Yreal_data['Real']- predictions['fGAN'])/(max(Yreal_data['Real'])+Yreal_data['Real'])*100\n",
    "#erro.to_csv(\"/home/rodrigo/Dropbox/Estudando_IA/PIBIC_UFBA/erro_previsao_RBF3.csv\")\n",
    "def Carta_Controle1(erro):\n",
    "    barra_erro=erro.mean()\n",
    "    desvio_erroc=erro.std()\n",
    "    LSC=[]\n",
    "    LIC=[]\n",
    "    LM=[]\n",
    "    i=0\n",
    "    while i <len(erro):\n",
    "        LIC.append(barra_erro-3*desvio_erroc)\n",
    "        LSC.append(barra_erro+3*desvio_erroc)\n",
    "        LM.append(barra_erro)\n",
    "        i+=1\n",
    "    erroV=erro.values.astype('float32')\n",
    "    fig, ax = plt.subplots(1,1)\n",
    "    plt.plot(erroV, 'bo')\n",
    "    plt.plot(erroV, 'b', label='err')\n",
    "    plt.plot(LSC, 'g--', label='LSC')\n",
    "    plt.plot(LIC, 'r--', label='LIC')\n",
    "    plt.plot(LM, 'black', label='LM')\n",
    "    plt.title('Relative residuals control charts')\n",
    "    plt.yticks(fontsize=14, color='black')\n",
    "    plt.xticks(fontsize=14, color='black')   \n",
    "    ax.set_ylabel('Relative residuals(%)', fontsize=14, color='black')\n",
    "\n",
    "    ax.legend(loc='upper left', bbox_to_anchor=(0.265, -0.07), shadow=True, ncol=4)\n",
    "    fig.savefig('RESULTADOS_full_fGAN/Serie_Dado_real_plu_fGAN_ERRO_week_percent.pdf', format='pdf')\n",
    "Carta_Controle1(erro)"
   ]
  },
  {
   "cell_type": "code",
   "execution_count": null,
   "id": "2bc9c2cd",
   "metadata": {},
   "outputs": [],
   "source": []
  },
  {
   "cell_type": "code",
   "execution_count": null,
   "id": "40bbf088",
   "metadata": {},
   "outputs": [],
   "source": []
  },
  {
   "cell_type": "code",
   "execution_count": null,
   "id": "6f9bbfe5",
   "metadata": {},
   "outputs": [],
   "source": []
  },
  {
   "cell_type": "code",
   "execution_count": null,
   "id": "5131d690",
   "metadata": {},
   "outputs": [],
   "source": []
  },
  {
   "cell_type": "code",
   "execution_count": null,
   "id": "cb98318c",
   "metadata": {},
   "outputs": [],
   "source": []
  },
  {
   "cell_type": "code",
   "execution_count": null,
   "id": "baf7b138",
   "metadata": {},
   "outputs": [],
   "source": []
  },
  {
   "cell_type": "code",
   "execution_count": null,
   "id": "f347ea7c",
   "metadata": {},
   "outputs": [],
   "source": []
  },
  {
   "cell_type": "code",
   "execution_count": null,
   "id": "89e0f4d2",
   "metadata": {},
   "outputs": [],
   "source": []
  },
  {
   "cell_type": "code",
   "execution_count": null,
   "id": "34faa3b6",
   "metadata": {},
   "outputs": [],
   "source": []
  },
  {
   "cell_type": "code",
   "execution_count": null,
   "id": "507cc49a",
   "metadata": {},
   "outputs": [],
   "source": []
  }
 ],
 "metadata": {
  "kernelspec": {
   "display_name": "Python 3 (ipykernel)",
   "language": "python",
   "name": "python3"
  },
  "language_info": {
   "codemirror_mode": {
    "name": "ipython",
    "version": 3
   },
   "file_extension": ".py",
   "mimetype": "text/x-python",
   "name": "python",
   "nbconvert_exporter": "python",
   "pygments_lexer": "ipython3",
   "version": "3.9.7"
  }
 },
 "nbformat": 4,
 "nbformat_minor": 5
}
